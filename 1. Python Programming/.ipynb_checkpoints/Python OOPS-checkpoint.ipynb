{
 "cells": [
  {
   "cell_type": "markdown",
   "metadata": {},
   "source": [
    "## OOPS ( Python)\n",
    "A minimalistic Python Class"
   ]
  },
  {
   "cell_type": "code",
   "execution_count": 56,
   "metadata": {},
   "outputs": [
    {
     "name": "stdout",
     "output_type": "stream",
     "text": [
      "True\n"
     ]
    }
   ],
   "source": [
    "# OOPS -> Encapsulation, Abstraction, Inheritance and Polymorphism\n",
    "# Note :- Every 'entity' is an ' object ' for Python\n",
    "a = 1\n",
    "print(isinstance(a, object))"
   ]
  },
  {
   "cell_type": "code",
   "execution_count": 57,
   "metadata": {},
   "outputs": [
    {
     "name": "stdout",
     "output_type": "stream",
     "text": [
      "<class 'int'>\n"
     ]
    }
   ],
   "source": [
    "a = 1\n",
    "print(type(a))"
   ]
  },
  {
   "cell_type": "code",
   "execution_count": 58,
   "metadata": {},
   "outputs": [
    {
     "name": "stdout",
     "output_type": "stream",
     "text": [
      "True\n"
     ]
    }
   ],
   "source": [
    "a = print\n",
    "print(isinstance(a, object))"
   ]
  },
  {
   "cell_type": "code",
   "execution_count": 59,
   "metadata": {},
   "outputs": [],
   "source": [
    "class A:\n",
    "    pass"
   ]
  },
  {
   "cell_type": "code",
   "execution_count": 60,
   "metadata": {},
   "outputs": [
    {
     "name": "stdout",
     "output_type": "stream",
     "text": [
      "True\n"
     ]
    }
   ],
   "source": [
    "a = A()\n",
    "print(isinstance(a, object))"
   ]
  },
  {
   "cell_type": "code",
   "execution_count": 61,
   "metadata": {},
   "outputs": [
    {
     "name": "stdout",
     "output_type": "stream",
     "text": [
      "<class '__main__.Person'>\n"
     ]
    }
   ],
   "source": [
    "# class -> Keyword; Person -> Identifier\n",
    "class Person:\n",
    "    pass\n",
    "p = Person() # Instance of the ' class ' -> Person() {p}\n",
    "print(type(p))"
   ]
  },
  {
   "cell_type": "code",
   "execution_count": 62,
   "metadata": {},
   "outputs": [
    {
     "data": {
      "text/plain": [
       "'0x588bbf8'"
      ]
     },
     "execution_count": 62,
     "metadata": {},
     "output_type": "execute_result"
    }
   ],
   "source": [
    "hex(id(p)) # Memory Adress of the ' object ' {p}"
   ]
  },
  {
   "cell_type": "markdown",
   "metadata": {},
   "source": [
    "### Basics"
   ]
  },
  {
   "cell_type": "code",
   "execution_count": 63,
   "metadata": {},
   "outputs": [
    {
     "name": "stdout",
     "output_type": "stream",
     "text": [
      "Hello, my name is Medha\n",
      "Hello, my name is Medha\n"
     ]
    }
   ],
   "source": [
    "class Person:\n",
    "    name = \"Medha\"\n",
    "    def say_hi(self):\n",
    "        print(\"Hello, my name is\", self.name)\n",
    "p = Person()\n",
    "p.say_hi()\n",
    "Person.say_hi(p)"
   ]
  },
  {
   "cell_type": "code",
   "execution_count": 64,
   "metadata": {},
   "outputs": [
    {
     "name": "stdout",
     "output_type": "stream",
     "text": [
      "New Object\n",
      "New Object\n",
      "Hello, my name is Laksh\n",
      "Hello, my name is Laksh\n"
     ]
    }
   ],
   "source": [
    "class Person:\n",
    "    # Not a Constructor\n",
    "    # name = \"Medha\"\n",
    "    def __init__(self, name):\n",
    "        self.name  = name # The val for 'name' is set for self.name attribute for the object\n",
    "        print(\"New Object\")\n",
    "        #pass\n",
    "    def say_hi(self):\n",
    "        print(\"Hello, my name is\", self.name)\n",
    "        \n",
    "p = Person(\"Laksh\")\n",
    "z = Person(\"Janvi\") # Use of the __init__ () method.\n",
    "p.say_hi()\n",
    "Person.say_hi(p)"
   ]
  },
  {
   "cell_type": "code",
   "execution_count": 65,
   "metadata": {},
   "outputs": [
    {
     "name": "stdout",
     "output_type": "stream",
     "text": [
      "Hello World!\n",
      "My Name is  Prateek\n",
      "I am from  Coding Blocks\n",
      "I am  Indian\n",
      "In Secret Method of  Prateek\n",
      "My Name is  Arnav\n",
      "I am from  Micromax\n",
      "I am  Indian\n",
      "In Secret Method of  Arnav\n"
     ]
    }
   ],
   "source": [
    "class Person:\n",
    "    #Class Variable, common for all objects of the same class\n",
    "    nationality = \"Indian\"\n",
    "    \n",
    "    def __init__(self,pname,clg): #Set the val\n",
    "        self.name = pname\n",
    "        self.college = clg\n",
    "    \n",
    "    def sayHi(self,name):\n",
    "        print(\"Hello \"+name)\n",
    "        \n",
    "    def __secretMethod(self):\n",
    "        print(\"In Secret Method of \",self.name)\n",
    "    \n",
    "    def introduce(self):\n",
    "        print(\"My Name is \",self.name)\n",
    "        print(\"I am from \",self.college)\n",
    "        print(\"I am \",self.nationality)\n",
    "        self.__secretMethod()\n",
    "        \n",
    "        \n",
    "p = Person(\"Prateek\",\"Coding Blocks\")\n",
    "p.sayHi(\"World!\")\n",
    "p.introduce()\n",
    "#p.__secretMethod()\n",
    "\n",
    "p2 = Person(\"Arnav\",\"Micromax\")\n",
    "p2.introduce()\n",
    "\n"
   ]
  },
  {
   "cell_type": "markdown",
   "metadata": {},
   "source": [
    "##### Dunder(s) or Magic Methods"
   ]
  },
  {
   "cell_type": "code",
   "execution_count": 66,
   "metadata": {},
   "outputs": [],
   "source": [
    "# __init__(self) ; __del--(self) ; __add__(self, other) ; __str__(self)\n",
    "class Car:\n",
    "    def __init__(self, model, mileage):\n",
    "        self.model = model\n",
    "        self.mileage = mileage\n",
    "    def __str__(self):\n",
    "        return \" {} {} \".format(self.model, self.mileage)\n",
    "    def __repr__(self):\n",
    "        return \"{}\".format(self.model)\n",
    "    def __eq__(self, other):\n",
    "        return self.mileage == other.mileage\n",
    "    def __add__(self, other):\n",
    "        return self.mileage + other.mileage"
   ]
  },
  {
   "cell_type": "code",
   "execution_count": 67,
   "metadata": {},
   "outputs": [],
   "source": [
    "c1 = Car(\"Maruti\" , 2)\n",
    "c2 = Car(\"Honda\" , 20)"
   ]
  },
  {
   "cell_type": "code",
   "execution_count": 68,
   "metadata": {},
   "outputs": [
    {
     "data": {
      "text/plain": [
       "22"
      ]
     },
     "execution_count": 68,
     "metadata": {},
     "output_type": "execute_result"
    }
   ],
   "source": [
    "c1  + c2 # __add__(self, other) -> Defined to 'sum' the mileage ( self.mileage + other.mileage)"
   ]
  },
  {
   "cell_type": "code",
   "execution_count": 69,
   "metadata": {},
   "outputs": [
    {
     "data": {
      "text/plain": [
       "False"
      ]
     },
     "execution_count": 69,
     "metadata": {},
     "output_type": "execute_result"
    }
   ],
   "source": [
    "c1 == c2"
   ]
  },
  {
   "cell_type": "code",
   "execution_count": 70,
   "metadata": {},
   "outputs": [],
   "source": [
    " # cout << \"Medha\" -> Error"
   ]
  },
  {
   "cell_type": "code",
   "execution_count": 71,
   "metadata": {},
   "outputs": [],
   "source": [
    "class Ostream:\n",
    "    def __lshift__(self, other):\n",
    "        print(other, end = '')\n",
    "        return self\n",
    "    \n",
    "cout = Ostream()"
   ]
  },
  {
   "cell_type": "code",
   "execution_count": 72,
   "metadata": {},
   "outputs": [
    {
     "name": "stdout",
     "output_type": "stream",
     "text": [
      "Medha"
     ]
    },
    {
     "data": {
      "text/plain": [
       "<__main__.Ostream at 0x7b55f8>"
      ]
     },
     "execution_count": 72,
     "metadata": {},
     "output_type": "execute_result"
    }
   ],
   "source": [
    "cout << \"Medha\""
   ]
  },
  {
   "cell_type": "markdown",
   "metadata": {},
   "source": [
    "### Instance Variables vs Class Variables\n",
    "#### Inheritance"
   ]
  },
  {
   "cell_type": "code",
   "execution_count": 73,
   "metadata": {},
   "outputs": [],
   "source": [
    "class Dog:\n",
    "    kind  = \"Canine\" # Class Variable (Shared by all instance(S))\n",
    "    \n",
    "    def __init__(self, name):\n",
    "        self.name = name  # Instance Varibale -> It is unique to every ' instance '."
   ]
  },
  {
   "cell_type": "code",
   "execution_count": 74,
   "metadata": {},
   "outputs": [
    {
     "data": {
      "text/plain": [
       "'Canine'"
      ]
     },
     "execution_count": 74,
     "metadata": {},
     "output_type": "execute_result"
    }
   ],
   "source": [
    "a = Dog( \" Tuffy \")\n",
    "a.kind"
   ]
  },
  {
   "cell_type": "code",
   "execution_count": 75,
   "metadata": {},
   "outputs": [
    {
     "data": {
      "text/plain": [
       "'Lhasa'"
      ]
     },
     "execution_count": 75,
     "metadata": {},
     "output_type": "execute_result"
    }
   ],
   "source": [
    "b = Dog( \"Eva\")\n",
    "b.kind = \"Lhasa\"\n",
    "b.kind"
   ]
  },
  {
   "cell_type": "code",
   "execution_count": 76,
   "metadata": {},
   "outputs": [],
   "source": [
    "class Dog:\n",
    "    \n",
    "    tricks= [] # Misuse of a class varible\n",
    "    \n",
    "    def __init__(self, name):\n",
    "        self.name = name\n",
    "    def add_trick(self, trick):\n",
    "        self.tricks.append(trick)"
   ]
  },
  {
   "cell_type": "code",
   "execution_count": 77,
   "metadata": {},
   "outputs": [],
   "source": [
    "a = Dog(\"Bruno\")"
   ]
  },
  {
   "cell_type": "code",
   "execution_count": 78,
   "metadata": {},
   "outputs": [],
   "source": [
    "b = Dog(\"Jhonny\")"
   ]
  },
  {
   "cell_type": "code",
   "execution_count": 79,
   "metadata": {},
   "outputs": [],
   "source": [
    "a.add_trick('Fetch')\n",
    "a.add_trick('Jump')"
   ]
  },
  {
   "cell_type": "code",
   "execution_count": 80,
   "metadata": {},
   "outputs": [
    {
     "name": "stdout",
     "output_type": "stream",
     "text": [
      "['Fetch', 'Jump']\n"
     ]
    }
   ],
   "source": [
    "print(b.tricks) # 'Jhonny'has not learnt the tricks"
   ]
  },
  {
   "cell_type": "code",
   "execution_count": 83,
   "metadata": {},
   "outputs": [
    {
     "name": "stdout",
     "output_type": "stream",
     "text": [
      "German Shepherd\n",
      "['HighJump', 'Roll Over']\n",
      "Doing Secret Activity  German Shepherd\n",
      "Golden Retriever\n",
      "['LowJump', 'Roll Upside Down']\n",
      "Doing Secret Activity  Golden Retriever\n"
     ]
    }
   ],
   "source": [
    "class Dog:\n",
    "    \n",
    "    color = \"Brown\"\n",
    "    #Common for all data member of the class \n",
    "  \n",
    "    def __init__(self,breed):\n",
    "        \"\"\"This method accepts the breed of the dog and initialsies it\"\"\"\n",
    "        self.activities = [] # Unique to each 'instance' here to eliminate irrelevant assignments ( As discussed above)\n",
    "        self.breed = breed\n",
    "    \n",
    "    def addActivity(self,act):\n",
    "        self.activities.append(act)\n",
    "        \n",
    "    def __secretActivity(self):\n",
    "        print(\"Doing Secret Activity \",self.breed)\n",
    "        \n",
    "    def doActivity(self):\n",
    "        \"\"\"This is reg dog activities\"\"\"\n",
    "        print(self.breed)\n",
    "        print(self.activities)\n",
    "        self.__secretActivity()\n",
    "        \n",
    "        \n",
    "d1 = Dog(\"German Shepherd\")\n",
    "d2 = Dog(\"Golden Retriever\")\n",
    "\n",
    "d1.addActivity(\"HighJump\")\n",
    "d1.addActivity(\"Roll Over\")\n",
    "#d1.__secretActivity()\n",
    "\n",
    "d2.addActivity(\"LowJump\")\n",
    "d2.addActivity(\"Roll Upside Down\")\n",
    "#d2.__secretActivity()\n",
    "d1.doActivity()\n",
    "d2.doActivity()\n",
    "\n",
    "d2.doActivity?\n",
    "\n"
   ]
  },
  {
   "cell_type": "markdown",
   "metadata": {},
   "source": [
    "### Public vs Private method"
   ]
  },
  {
   "cell_type": "markdown",
   "metadata": {},
   "source": [
    "### Inheritance in Python"
   ]
  },
  {
   "cell_type": "code",
   "execution_count": 87,
   "metadata": {},
   "outputs": [
    {
     "name": "stdout",
     "output_type": "stream",
     "text": [
      "Init School Member: Mr.Alpha \n",
      "Init School Member: Mr.Alpha \n",
      "Init Teacher : Mr.Alpha\n",
      "Name :Mr.Alpha 30\n",
      "Salary : 45000\n",
      "Init School Member: Xyz \n",
      "Init Student Xyz\n",
      "Name :Xyz 20\n",
      "Marks 90\n"
     ]
    }
   ],
   "source": [
    "# Python does not support(s) Overloading.\n",
    "# Python support(s) Overriding\n",
    "class SchoolMember:\n",
    "    def __init__(self,name,age):\n",
    "        self.name = name\n",
    "        self.age = age\n",
    "        print(\"Init School Member: %s \"%self.name)\n",
    "        \n",
    "    def introduce(self):\n",
    "        print(\"Name :%s %d\"%(self.name,self.age))\n",
    "        \n",
    "\n",
    "class Teacher(SchoolMember): # The class ' Teacher ' inherits the ' Base Class '\n",
    "       \n",
    "        def __init__(self,name,age,salary): \n",
    "            SchoolMember.__init__(self,name,age)\n",
    "            super().__init__(name, age) # @Overriding\n",
    "            self.salary = salary\n",
    "            print(\"Init Teacher : %s\"%self.name)\n",
    "\n",
    "        def introduce(self):\n",
    "            SchoolMember.introduce(self)\n",
    "            print(\"Salary : %d\"%(self.salary))\n",
    "            \n",
    "class Student(SchoolMember):\n",
    "    '''Represents a school student'''\n",
    "    def __init__(self,name,age,marks):\n",
    "        SchoolMember.__init__(self,name,age)\n",
    "        self.marks = marks\n",
    "        print(\"Init Student %s\"%(self.name))\n",
    "        \n",
    "    def introduce(self):\n",
    "        #SchoolMember.introduce(self)\n",
    "        super().introduce()\n",
    "        print(\"Marks %d\"%(self.marks))\n",
    "    \n",
    "\n",
    "t = Teacher(\"Mr.Alpha\",30,45000)\n",
    "t.introduce()\n",
    "\n",
    "s = Student(\"Xyz\",20,90)\n",
    "s.introduce()\n"
   ]
  },
  {
   "cell_type": "markdown",
   "metadata": {},
   "source": [
    "#### Important - MRO (Method Resolution Order)\n"
   ]
  },
  {
   "cell_type": "code",
   "execution_count": 88,
   "metadata": {},
   "outputs": [],
   "source": [
    "# C3 Linearization # Traverse the child node(s) first.\n",
    "class A:\n",
    "    x = 10\n",
    "class B(A):\n",
    "    pass\n",
    "class C(A):\n",
    "    pass\n",
    "class D(C):\n",
    "    x = 5\n",
    "class E(B, D):\n",
    "    pass"
   ]
  },
  {
   "cell_type": "code",
   "execution_count": 89,
   "metadata": {},
   "outputs": [
    {
     "data": {
      "text/plain": [
       "5"
      ]
     },
     "execution_count": 89,
     "metadata": {},
     "output_type": "execute_result"
    }
   ],
   "source": [
    "E.x"
   ]
  },
  {
   "cell_type": "code",
   "execution_count": 90,
   "metadata": {},
   "outputs": [],
   "source": [
    "# Check the order as -> Method Resolution Order"
   ]
  },
  {
   "cell_type": "code",
   "execution_count": 91,
   "metadata": {},
   "outputs": [
    {
     "data": {
      "text/plain": [
       "(__main__.E, __main__.B, __main__.D, __main__.C, __main__.A, object)"
      ]
     },
     "execution_count": 91,
     "metadata": {},
     "output_type": "execute_result"
    }
   ],
   "source": [
    "E.__mro__ "
   ]
  }
 ],
 "metadata": {
  "kernelspec": {
   "display_name": "Python 3",
   "language": "python",
   "name": "python3"
  },
  "language_info": {
   "codemirror_mode": {
    "name": "ipython",
    "version": 3
   },
   "file_extension": ".py",
   "mimetype": "text/x-python",
   "name": "python",
   "nbconvert_exporter": "python",
   "pygments_lexer": "ipython3",
   "version": "3.8.5"
  }
 },
 "nbformat": 4,
 "nbformat_minor": 2
}
